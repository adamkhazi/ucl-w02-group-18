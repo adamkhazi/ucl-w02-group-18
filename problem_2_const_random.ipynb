{
 "cells": [
  {
   "cell_type": "code",
   "execution_count": null,
   "metadata": {},
   "outputs": [],
   "source": [
    "%load_ext autoreload\n",
    "%autoreload 2"
   ]
  },
  {
   "cell_type": "code",
   "execution_count": null,
   "metadata": {},
   "outputs": [],
   "source": [
    "import pandas as pd\n",
    "from sklearn import linear_model\n",
    "from sklearn import preprocessing\n",
    "from sklearn_pandas import DataFrameMapper\n",
    "from sklearn.metrics import mean_squared_error, r2_score, accuracy_score"
   ]
  },
  {
   "cell_type": "code",
   "execution_count": null,
   "metadata": {},
   "outputs": [],
   "source": [
    "\n",
    "\n",
    "train = pd.read_csv(\"data/train.csv\")\n",
    "#test = pd.read_csv(\"data/test.csv\")\n",
    "val = pd.read_csv(\"data/validation.csv\")\n",
    "#group = pd.read_csv(\"data/Group_xx.csv\")\n",
    "\n",
    "print(\"train total clicks\", train[\"click\"].sum())\n",
    "print(\"val total clicks\", val[\"click\"].sum())\n",
    "\n",
    "# for evaluation\n",
    "train_prices=train[[\"bidprice\",\"payprice\"]]\n",
    "val_prices=val[[\"bidprice\",\"payprice\"]]\n",
    "\n",
    "x_train = None\n",
    "x_val = None\n",
    "x_train_features = None\n",
    "x_val_features = None"
   ]
  },
  {
   "cell_type": "code",
   "execution_count": null,
   "metadata": {},
   "outputs": [],
   "source": [
    "train_cols = ['weekday', 'hour', 'useragent', 'region', 'city',\n",
    " 'adexchange', 'domain', 'url', 'slotid', 'slotwidth', 'slotheight',\n",
    " 'slotvisibility', 'slotformat', 'creative', 'keypage',\n",
    " 'advertiser']\n",
    "\n",
    "# excluded: usertag, ip, urlid, bidprice and slotprice (for now)\n",
    "# the integers bidprice and slotprice cause errors when converting to csr later on\n",
    "hot_enc_cols = ['weekday', 'hour', 'useragent', 'region', 'city', \n",
    "                    'adexchange', 'domain', 'url', 'slotid', \n",
    "                    'slotwidth', 'slotheight', 'slotvisibility', \n",
    "                    'slotformat', 'creative', 'keypage', 'advertiser']\n",
    "\n",
    "x_train = train[train_cols]\n",
    "y_train = train['click']\n",
    "\n",
    "x_val = val[train_cols]\n",
    "y_val = val['click']\n",
    "\n",
    "train = None\n",
    "val = None\n",
    "\n",
    "x_val.head()"
   ]
  },
  {
   "cell_type": "code",
   "execution_count": null,
   "metadata": {},
   "outputs": [],
   "source": [
    "val_prices.head()"
   ]
  },
  {
   "cell_type": "markdown",
   "metadata": {},
   "source": [
    "#### Save/Load Dataset"
   ]
  },
  {
   "cell_type": "markdown",
   "metadata": {},
   "source": [
    "###### Saving train/val Data"
   ]
  },
  {
   "cell_type": "code",
   "execution_count": null,
   "metadata": {},
   "outputs": [],
   "source": [
    "save_folder='pickled_data/'\n",
    "import pickle\n",
    "with open(save_folder+'x_train_csr.dat', 'wb') as outfile:\n",
    "    pickle.dump(x_train, outfile, pickle.HIGHEST_PROTOCOL)\n",
    "with open(save_folder+'x_val_csr.dat', 'wb') as outfile:\n",
    "    pickle.dump(x_val, outfile, pickle.HIGHEST_PROTOCOL)\n",
    "with open(save_folder+'y_train.dat', 'wb') as outfile:\n",
    "    pickle.dump(y_train, outfile, pickle.HIGHEST_PROTOCOL)\n",
    "with open(save_folder+'y_val.dat', 'wb') as outfile:\n",
    "    pickle.dump(y_val, outfile, pickle.HIGHEST_PROTOCOL)\n",
    "with open(save_folder+'train_prices.dat', 'wb') as outfile:\n",
    "    pickle.dump(train_prices, outfile, pickle.HIGHEST_PROTOCOL)\n",
    "with open(save_folder+'val_prices.dat', 'wb') as outfile:\n",
    "    pickle.dump(val_prices, outfile, pickle.HIGHEST_PROTOCOL)"
   ]
  },
  {
   "cell_type": "markdown",
   "metadata": {},
   "source": [
    "###### Loading train/val Data"
   ]
  },
  {
   "cell_type": "code",
   "execution_count": null,
   "metadata": {},
   "outputs": [],
   "source": [
    "save_folder='pickled_data/'\n",
    "import pickle\n",
    "with open(save_folder+'x_train_csr.dat', 'rb') as infile:\n",
    "    x_train = pickle.load(infile)\n",
    "with open(save_folder+'x_val_csr.dat', 'rb') as infile:\n",
    "    x_val = pickle.load(infile)\n",
    "with open(save_folder+'y_train.dat', 'rb') as infile:\n",
    "    y_train = pickle.load(infile)\n",
    "with open(save_folder+'y_val.dat', 'rb') as infile:\n",
    "    y_val = pickle.load(infile)\n",
    "with open(save_folder+'train_prices.dat', 'rb') as infile:\n",
    "    train_prices = pickle.load(infile)\n",
    "with open(save_folder+'val_prices.dat', 'rb') as infile:\n",
    "    val_prices = pickle.load(infile)\n",
    "    \n",
    "with open(save_folder+'x_test_csr.dat', 'rb') as infile:\n",
    "    x_test = pickle.load(infile)"
   ]
  },
  {
   "cell_type": "code",
   "execution_count": null,
   "metadata": {},
   "outputs": [],
   "source": [
    "# faster iteration\n",
    "val_prices=val_prices.to_records()"
   ]
  },
  {
   "cell_type": "markdown",
   "metadata": {},
   "source": [
    "## Constant Bidding "
   ]
  },
  {
   "cell_type": "code",
   "execution_count": null,
   "metadata": {},
   "outputs": [],
   "source": [
    "from tqdm import tqdm\n",
    "from simulation import Simulation"
   ]
  },
  {
   "cell_type": "code",
   "execution_count": null,
   "metadata": {},
   "outputs": [],
   "source": [
    "sim = Simulation()"
   ]
  },
  {
   "cell_type": "code",
   "execution_count": null,
   "metadata": {},
   "outputs": [],
   "source": [
    "val_prices=val_prices.to_records()"
   ]
  },
  {
   "cell_type": "code",
   "execution_count": null,
   "metadata": {},
   "outputs": [],
   "source": [
    "const_bid_range = list(range(227, 301))\n",
    "res_ctr = [] # ctr results list over grid search"
   ]
  },
  {
   "cell_type": "code",
   "execution_count": null,
   "metadata": {},
   "outputs": [],
   "source": [
    "print(x_val.shape)\n",
    "print(y_val.shape)"
   ]
  },
  {
   "cell_type": "code",
   "execution_count": null,
   "metadata": {},
   "outputs": [],
   "source": [
    "from joblib import Parallel, delayed\n",
    "from tqdm import tqdm\n",
    "\n",
    "budget=6250\n",
    "# highest 164 clicks and ctr 0.05396068108908448\n",
    "\n",
    "def simulate(b):\n",
    "    print(\"const bid:\", b)\n",
    "    sim_bids=sim.run(x_val, 'constant', b, None, None, None, None)\n",
    "    result_ctr=sim.evaluate(val_prices, sim_bids, budget, y_val)\n",
    "    return (b, result_ctr[2])\n",
    "    \n",
    "res_ctr = Parallel(n_jobs=10)(delayed(simulate)(n) for n in const_bid_range) "
   ]
  },
  {
   "cell_type": "code",
   "execution_count": null,
   "metadata": {
    "scrolled": true
   },
   "outputs": [],
   "source": [
    "res_ctr"
   ]
  },
  {
   "cell_type": "code",
   "execution_count": null,
   "metadata": {},
   "outputs": [],
   "source": [
    "bids_range = [r[0] for r in res_ctr]\n",
    "ctr = [r[1] for r in res_ctr]"
   ]
  },
  {
   "cell_type": "code",
   "execution_count": null,
   "metadata": {},
   "outputs": [],
   "source": [
    "import plotly.plotly as py\n",
    "import plotly.graph_objs as go\n",
    "\n",
    "data=[]\n",
    "\n",
    "data.append(\n",
    "    go.Scatter(\n",
    "        x=bids_range,\n",
    "        y=ctr,\n",
    "        mode = 'lines+markers'\n",
    "    )\n",
    ")\n",
    "\n",
    "layout = go.Layout(\n",
    "    xaxis=dict(\n",
    "        title='Bid Value',\n",
    "        showticklabels=True, \n",
    "        #range=[0.00009, 0.00046],\n",
    "        #dtick=0.00005,\n",
    "        #tickformat=\".5f\"\n",
    "    ),\n",
    "    yaxis=dict(\n",
    "        title='CTR',\n",
    "        showticklabels=True\n",
    "    )\n",
    ")\n",
    "fig = go.Figure(data=data, layout=layout)\n",
    "py.iplot(fig)"
   ]
  },
  {
   "cell_type": "code",
   "execution_count": null,
   "metadata": {},
   "outputs": [],
   "source": [
    "bid_ctr_res = [(const_bid_range[i], res_ctr[i][0]) for i in range(len(const_bid_range))]\n",
    "print(bid_ctr_res)"
   ]
  },
  {
   "cell_type": "code",
   "execution_count": null,
   "metadata": {},
   "outputs": [],
   "source": [
    "print(\"max\", train_prices['bidprice'].max())\n",
    "print(\"min\", train_prices['bidprice'].min())\n",
    "print(\"mean\", train_prices['bidprice'].mean())"
   ]
  },
  {
   "cell_type": "code",
   "execution_count": null,
   "metadata": {},
   "outputs": [],
   "source": []
  },
  {
   "cell_type": "markdown",
   "metadata": {},
   "source": [
    "## Random Bidding"
   ]
  },
  {
   "cell_type": "code",
   "execution_count": null,
   "metadata": {},
   "outputs": [],
   "source": [
    "from simulation import Simulation"
   ]
  },
  {
   "cell_type": "code",
   "execution_count": null,
   "metadata": {},
   "outputs": [],
   "source": [
    "sim = Simulation()"
   ]
  },
  {
   "cell_type": "code",
   "execution_count": null,
   "metadata": {},
   "outputs": [],
   "source": [
    "res = [] # ctr/clicks/cost results list over random bidding"
   ]
  },
  {
   "cell_type": "code",
   "execution_count": null,
   "metadata": {},
   "outputs": [],
   "source": [
    "val_prices"
   ]
  },
  {
   "cell_type": "code",
   "execution_count": null,
   "metadata": {
    "scrolled": true
   },
   "outputs": [],
   "source": [
    "budget=6250\n",
    "lower_bound=227\n",
    "upper_bound=300\n",
    "\n",
    "lower_intervals=list(range(lower_bound, upper_bound+1, 5))\n",
    "upper_intervals=list(range(lower_bound, upper_bound+1, 5))\n",
    "            \n",
    "def simulate(low, high):\n",
    "    print(\"low\", low, \"high\", high)\n",
    "    sim_bids=sim.run(x_val, 'random', (low, high), None, None, None, None)\n",
    "    result_ctr=sim.evaluate(val_prices, sim_bids, budget, y_val)\n",
    "    return (low, high, result_ctr[2])"
   ]
  },
  {
   "cell_type": "code",
   "execution_count": null,
   "metadata": {},
   "outputs": [],
   "source": [
    "res_ctr = Parallel(n_jobs=10)(delayed(simulate)(l, h) for h in upper_intervals for l in lower_intervals if l < h) "
   ]
  },
  {
   "cell_type": "code",
   "execution_count": null,
   "metadata": {
    "scrolled": true
   },
   "outputs": [],
   "source": [
    "l=275\n",
    "res_ctr = Parallel(n_jobs=10)(delayed(simulate)(l, h) for h in upper_intervals if l < h) \n",
    "res.append(res_ctr)"
   ]
  },
  {
   "cell_type": "code",
   "execution_count": null,
   "metadata": {},
   "outputs": [],
   "source": [
    "res"
   ]
  },
  {
   "cell_type": "code",
   "execution_count": null,
   "metadata": {},
   "outputs": [],
   "source": [
    "bids_range = [r[0] for r in res_ctr]\n",
    "ctr = [r[1] for r in res_ctr]"
   ]
  },
  {
   "cell_type": "code",
   "execution_count": null,
   "metadata": {},
   "outputs": [],
   "source": [
    "import plotly.plotly as py\n",
    "import plotly.graph_objs as go\n",
    "\n",
    "data=[]\n",
    "for r in res:\n",
    "    data.append(\n",
    "        go.Scatter(\n",
    "            x=[ri[1] for ri in r],\n",
    "            y=[ri[2] for ri in r],\n",
    "            mode='lines+markers',\n",
    "            name=str(r[0][0])\n",
    "        )\n",
    "    )\n",
    "\n",
    "layout = go.Layout(\n",
    "    xaxis=dict(\n",
    "        title='Upper Bound Bid Value',\n",
    "        showticklabels=True, \n",
    "        #range=[0.00009, 0.00046],\n",
    "        #dtick=0.00005,\n",
    "        #tickformat=\".5f\"\n",
    "    ),\n",
    "    yaxis=dict(\n",
    "        title='CTR',\n",
    "        showticklabels=True\n",
    "    )\n",
    ")\n",
    "fig = go.Figure(data=data, layout=layout)\n",
    "py.iplot(fig)"
   ]
  },
  {
   "cell_type": "code",
   "execution_count": null,
   "metadata": {},
   "outputs": [],
   "source": [
    "res"
   ]
  },
  {
   "cell_type": "code",
   "execution_count": null,
   "metadata": {},
   "outputs": [],
   "source": [
    "x_test"
   ]
  },
  {
   "cell_type": "code",
   "execution_count": null,
   "metadata": {},
   "outputs": [],
   "source": [
    "test.shape"
   ]
  },
  {
   "cell_type": "code",
   "execution_count": null,
   "metadata": {},
   "outputs": [],
   "source": []
  }
 ],
 "metadata": {
  "kernelspec": {
   "display_name": "Python 3",
   "language": "python",
   "name": "python3"
  },
  "language_info": {
   "codemirror_mode": {
    "name": "ipython",
    "version": 3
   },
   "file_extension": ".py",
   "mimetype": "text/x-python",
   "name": "python",
   "nbconvert_exporter": "python",
   "pygments_lexer": "ipython3",
   "version": "3.6.4"
  }
 },
 "nbformat": 4,
 "nbformat_minor": 2
}
