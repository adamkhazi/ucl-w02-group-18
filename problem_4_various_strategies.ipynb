{
 "cells": [
  {
   "cell_type": "code",
   "execution_count": null,
   "metadata": {},
   "outputs": [],
   "source": [
    "%load_ext autoreload\n",
    "%autoreload 2"
   ]
  },
  {
   "cell_type": "code",
   "execution_count": null,
   "metadata": {},
   "outputs": [],
   "source": [
    "import pandas as pd\n",
    "from sklearn import linear_model\n",
    "from sklearn.svm import LinearSVC\n",
    "from sklearn import preprocessing\n",
    "from sklearn_pandas import DataFrameMapper\n",
    "from sklearn.metrics import mean_squared_error, r2_score, accuracy_score\n",
    "import numpy as np"
   ]
  },
  {
   "cell_type": "code",
   "execution_count": null,
   "metadata": {},
   "outputs": [],
   "source": [
    "train = pd.read_csv(\"data/train.csv\")\n",
    "test = pd.read_csv(\"data/test.csv\")\n",
    "val = pd.read_csv(\"data/validation.csv\")"
   ]
  },
  {
   "cell_type": "code",
   "execution_count": null,
   "metadata": {},
   "outputs": [],
   "source": [
    "\n",
    "#group = pd.read_csv(\"data/Group_xx.csv\")\n",
    "\n",
    "print(\"train total clicks\", train[\"click\"].sum())\n",
    "print(\"val total clicks\", val[\"click\"].sum())\n",
    "\n",
    "# for evaluation\n",
    "train_prices=train[[\"bidprice\",\"payprice\"]]\n",
    "val_prices=val[[\"bidprice\",\"payprice\"]]\n",
    "\n",
    "x_train = None\n",
    "x_val = None\n",
    "x_train_features = None\n",
    "x_val_features = None"
   ]
  },
  {
   "cell_type": "code",
   "execution_count": null,
   "metadata": {},
   "outputs": [],
   "source": [
    "train_prices[\"bidprice\"].min()"
   ]
  },
  {
   "cell_type": "code",
   "execution_count": null,
   "metadata": {},
   "outputs": [],
   "source": [
    "train_cols = ['weekday', 'hour', 'useragent', 'region', 'city',\n",
    " 'adexchange', 'domain', 'url', 'slotid', 'slotwidth', 'slotheight',\n",
    " 'slotvisibility', 'slotformat', 'creative', 'keypage',\n",
    " 'advertiser']\n",
    "\n",
    "# excluded: usertag, ip, urlid, bidprice and slotprice (for now)\n",
    "# the integers bidprice and slotprice cause errors when converting to csr later on\n",
    "hot_enc_cols = ['weekday', 'hour', 'useragent', 'region', 'city', \n",
    "                    'adexchange', 'domain', 'url', 'slotid', \n",
    "                    'slotwidth', 'slotheight', 'slotvisibility', \n",
    "                    'slotformat', 'creative', 'keypage', 'advertiser']\n",
    "\n",
    "x_train = train[train_cols]\n",
    "y_train = train['click']\n",
    "\n",
    "x_val = val[train_cols]\n",
    "y_val = val['click']\n",
    "\n",
    "x_test = test[train_cols]\n",
    "\n",
    "train = None\n",
    "val = None\n",
    "test = None\n",
    "\n",
    "x_val.head()"
   ]
  },
  {
   "cell_type": "code",
   "execution_count": null,
   "metadata": {},
   "outputs": [],
   "source": [
    "val_prices.head()"
   ]
  },
  {
   "cell_type": "markdown",
   "metadata": {},
   "source": [
    "### Feature Creation / Loading Pre-processed Features"
   ]
  },
  {
   "cell_type": "code",
   "execution_count": null,
   "metadata": {},
   "outputs": [],
   "source": [
    "x_train['useragent'].unique()"
   ]
  },
  {
   "cell_type": "code",
   "execution_count": null,
   "metadata": {},
   "outputs": [],
   "source": [
    "# change nan values in features to 0 using is null pandas\n",
    "x_train['keypage'].fillna(\"unknown\", inplace=True)\n",
    "x_val['keypage'].fillna(\"unknown\", inplace=True)\n",
    "x_test['keypage'].fillna(\"unknown\", inplace=True)\n",
    "\n",
    "print(x_train['keypage'].unique())\n",
    "print(x_val['keypage'].unique())\n",
    "print(x_test['keypage'].unique())"
   ]
  },
  {
   "cell_type": "code",
   "execution_count": null,
   "metadata": {},
   "outputs": [],
   "source": [
    "x_train['adexchange'].fillna(0, inplace=True)\n",
    "x_val['adexchange'].fillna(0, inplace=True)\n",
    "x_test['adexchange'].fillna(0, inplace=True)\n",
    "\n",
    "print(x_train['adexchange'].unique())\n",
    "print(x_val['adexchange'].unique())\n",
    "print(x_test['adexchange'].unique())\n",
    "\n",
    "\n",
    "x_train['adexchange'].shape"
   ]
  },
  {
   "cell_type": "code",
   "execution_count": null,
   "metadata": {},
   "outputs": [],
   "source": [
    "x_train['domain'].fillna('unknown', inplace=True)\n",
    "x_val['domain'].fillna('unknown', inplace=True)\n",
    "x_test['domain'].fillna('unknown', inplace=True)"
   ]
  },
  {
   "cell_type": "code",
   "execution_count": null,
   "metadata": {},
   "outputs": [],
   "source": [
    "x_train['url'].fillna('unknown', inplace=True)\n",
    "x_val['url'].fillna('unknown', inplace=True)\n",
    "x_test['url'].fillna('unknown', inplace=True)"
   ]
  },
  {
   "cell_type": "code",
   "execution_count": null,
   "metadata": {},
   "outputs": [],
   "source": [
    "train_objs_num = len(x_train)\n",
    "val_objs_num = len(x_val)\n",
    "test_objs_num = len(x_test)\n",
    "\n",
    "dataset = pd.concat(objs=[x_train, x_val], axis=0)\n",
    "dataset[hot_enc_cols] = dataset[hot_enc_cols].astype('str') \n",
    "dataset_preprocessed = pd.get_dummies(dataset, columns=hot_enc_cols, sparse=True)"
   ]
  },
  {
   "cell_type": "code",
   "execution_count": null,
   "metadata": {},
   "outputs": [],
   "source": [
    "from scipy import sparse\n",
    "def sparse_df_to_csr(df):\n",
    "    return sparse.csr_matrix(df.to_coo())"
   ]
  },
  {
   "cell_type": "code",
   "execution_count": null,
   "metadata": {},
   "outputs": [],
   "source": [
    "dataset_preprocessed = sparse_df_to_csr(dataset_preprocessed)"
   ]
  },
  {
   "cell_type": "code",
   "execution_count": null,
   "metadata": {},
   "outputs": [],
   "source": [
    "x_train = dataset_preprocessed[:train_objs_num]\n",
    "x_val = dataset_preprocessed[train_objs_num:]\n",
    "#x_test = dataset_preprocessed[train_objs_num+val_objs_num-1:]"
   ]
  },
  {
   "cell_type": "code",
   "execution_count": null,
   "metadata": {},
   "outputs": [],
   "source": [
    "print(y_val.shape)\n",
    "print(x_val.shape)"
   ]
  },
  {
   "cell_type": "markdown",
   "metadata": {},
   "source": [
    "#### Save/Load Dataset"
   ]
  },
  {
   "cell_type": "markdown",
   "metadata": {},
   "source": [
    "###### Saving train/val Data"
   ]
  },
  {
   "cell_type": "code",
   "execution_count": null,
   "metadata": {},
   "outputs": [],
   "source": [
    "save_folder='pickled_data/'\n",
    "import pickle\n",
    "with open(save_folder+'x_train_csr.dat', 'wb') as outfile:\n",
    "    pickle.dump(x_train, outfile, pickle.HIGHEST_PROTOCOL)\n",
    "with open(save_folder+'x_val_csr.dat', 'wb') as outfile:\n",
    "    pickle.dump(x_val, outfile, pickle.HIGHEST_PROTOCOL)\n",
    "with open(save_folder+'y_train.dat', 'wb') as outfile:\n",
    "    pickle.dump(y_train, outfile, pickle.HIGHEST_PROTOCOL)\n",
    "with open(save_folder+'y_val.dat', 'wb') as outfile:\n",
    "    pickle.dump(y_val, outfile, pickle.HIGHEST_PROTOCOL)\n",
    "with open(save_folder+'train_prices.dat', 'wb') as outfile:\n",
    "    pickle.dump(train_prices, outfile, pickle.HIGHEST_PROTOCOL)\n",
    "with open(save_folder+'val_prices.dat', 'wb') as outfile:\n",
    "    pickle.dump(val_prices, outfile, pickle.HIGHEST_PROTOCOL)\n",
    "    \n",
    "#with open(save_folder+'x_test_csr.dat', 'wb') as outfile:\n",
    "    #pickle.dump(x_test, outfile, pickle.HIGHEST_PROTOCOL)"
   ]
  },
  {
   "cell_type": "markdown",
   "metadata": {},
   "source": [
    "###### Loading train/val Data"
   ]
  },
  {
   "cell_type": "code",
   "execution_count": null,
   "metadata": {},
   "outputs": [],
   "source": [
    "save_folder='pickled_data/'\n",
    "import pickle\n",
    "with open(save_folder+'x_train_csr.dat', 'rb') as infile:\n",
    "    x_train = pickle.load(infile)\n",
    "with open(save_folder+'x_val_csr.dat', 'rb') as infile:\n",
    "    x_val = pickle.load(infile)\n",
    "with open(save_folder+'y_train.dat', 'rb') as infile:\n",
    "    y_train = pickle.load(infile)\n",
    "with open(save_folder+'y_val.dat', 'rb') as infile:\n",
    "    y_val = pickle.load(infile)\n",
    "with open(save_folder+'train_prices.dat', 'rb') as infile:\n",
    "    train_prices = pickle.load(infile)\n",
    "with open(save_folder+'val_prices.dat', 'rb') as infile:\n",
    "    val_prices = pickle.load(infile)\n",
    "    \n",
    "with open(save_folder+'x_test_csr.dat', 'rb') as infile:\n",
    "    x_test = pickle.load(infile)"
   ]
  },
  {
   "cell_type": "code",
   "execution_count": null,
   "metadata": {},
   "outputs": [],
   "source": [
    "len(x_train[\"domain\"].unique())"
   ]
  },
  {
   "cell_type": "code",
   "execution_count": null,
   "metadata": {},
   "outputs": [],
   "source": [
    "print(x_val.shape, y_val.shape)"
   ]
  },
  {
   "cell_type": "markdown",
   "metadata": {},
   "source": [
    "#### Class Imbalance"
   ]
  },
  {
   "cell_type": "code",
   "execution_count": null,
   "metadata": {},
   "outputs": [],
   "source": [
    "from collections import Counter\n",
    "from imblearn.under_sampling import RandomUnderSampler\n",
    "rus = RandomUnderSampler(random_state=0)\n",
    "X_resampled, y_resampled = rus.fit_sample(x_train, y_train)\n",
    "print(sorted(Counter(y_resampled).items()))"
   ]
  },
  {
   "cell_type": "code",
   "execution_count": null,
   "metadata": {},
   "outputs": [],
   "source": [
    "from imblearn.combine import SMOTEENN\n",
    "smote_enn = SMOTEENN(random_state=0)\n",
    "X_resampled, y_resampled = smote_enn.fit_sample(x_train, y_train)\n",
    "print(sorted(Counter(y_resampled).items()))"
   ]
  },
  {
   "cell_type": "markdown",
   "metadata": {},
   "source": [
    "#### CTR Estimation "
   ]
  },
  {
   "cell_type": "markdown",
   "metadata": {},
   "source": [
    "###### Logistic RegressionClassifier"
   ]
  },
  {
   "cell_type": "code",
   "execution_count": null,
   "metadata": {},
   "outputs": [],
   "source": [
    "lr = linear_model.LogisticRegression(class_weight=\"balanced\", verbose=1)\n",
    "lr.fit(X_resampled, y_resampled)"
   ]
  },
  {
   "cell_type": "code",
   "execution_count": null,
   "metadata": {},
   "outputs": [],
   "source": [
    "y_val.shape"
   ]
  },
  {
   "cell_type": "code",
   "execution_count": null,
   "metadata": {},
   "outputs": [],
   "source": [
    "y_val_pred = lr.predict(x_val)\n",
    "from sklearn.metrics import accuracy_score\n",
    "print(\"Accuracy:\", accuracy_score(y_val, y_val_pred))"
   ]
  },
  {
   "cell_type": "code",
   "execution_count": null,
   "metadata": {},
   "outputs": [],
   "source": [
    "from sklearn.metrics import mean_squared_error\n",
    "print(\"rmse:\", mean_squared_error(y_val, y_val_pred))"
   ]
  },
  {
   "cell_type": "code",
   "execution_count": null,
   "metadata": {},
   "outputs": [],
   "source": [
    "from sklearn import metrics\n",
    "fpr, tpr, thresholds = metrics.roc_curve(y_val, y_val_pred)\n",
    "print(\"auc:\", metrics.auc(fpr, tpr))                              "
   ]
  },
  {
   "cell_type": "code",
   "execution_count": null,
   "metadata": {},
   "outputs": [],
   "source": [
    "print(\"nr clicks:\", y_val.sum(), \"/\", y_val.shape[0])"
   ]
  },
  {
   "cell_type": "code",
   "execution_count": null,
   "metadata": {},
   "outputs": [],
   "source": [
    "print(\"nr of impressions:\", y_val.shape[0])"
   ]
  },
  {
   "cell_type": "code",
   "execution_count": null,
   "metadata": {},
   "outputs": [],
   "source": [
    "from sklearn.metrics import precision_score\n",
    "print(\"precision:\", precision_score(y_val, y_val_pred))                              "
   ]
  },
  {
   "cell_type": "code",
   "execution_count": null,
   "metadata": {},
   "outputs": [],
   "source": [
    "from sklearn.metrics import recall_score\n",
    "print(\"recall:\", recall_score(y_val, y_val_pred))  "
   ]
  },
  {
   "cell_type": "markdown",
   "metadata": {},
   "source": [
    "###### Bayes Regression"
   ]
  },
  {
   "cell_type": "code",
   "execution_count": null,
   "metadata": {},
   "outputs": [],
   "source": [
    "from skbayes.linear_models import VBLinearRegression, EBLinearRegression\n",
    "from sklearn.linear_model import BayesianRidge\n",
    "\n",
    "clf = BayesianRidge()\n",
    "clf.fit(x_train, y_train)"
   ]
  },
  {
   "cell_type": "code",
   "execution_count": null,
   "metadata": {},
   "outputs": [],
   "source": [
    "y_val_pred = clf.predict(x_val)"
   ]
  },
  {
   "cell_type": "code",
   "execution_count": null,
   "metadata": {},
   "outputs": [],
   "source": [
    "print(\"Mean squared error: %.2f\"\n",
    "      % mean_squared_error(y_val, y_val_pred))"
   ]
  },
  {
   "cell_type": "markdown",
   "metadata": {},
   "source": [
    "### Bidding Strategies"
   ]
  },
  {
   "cell_type": "markdown",
   "metadata": {},
   "source": [
    "###### ORTB"
   ]
  },
  {
   "cell_type": "code",
   "execution_count": null,
   "metadata": {},
   "outputs": [],
   "source": [
    "from simulation import Simulation\n",
    "sim = Simulation()"
   ]
  },
  {
   "cell_type": "code",
   "execution_count": null,
   "metadata": {},
   "outputs": [],
   "source": [
    "# faster iteration\n",
    "val_prices=val_prices.to_records()"
   ]
  },
  {
   "cell_type": "code",
   "execution_count": null,
   "metadata": {},
   "outputs": [],
   "source": [
    "p_ctr=lr.predict_proba(x_val)"
   ]
  },
  {
   "cell_type": "code",
   "execution_count": null,
   "metadata": {},
   "outputs": [],
   "source": [
    "import numpy as np\n",
    "avg_ctr = np.mean(p_ctr, axis=0)[0]\n",
    "avg_ctr"
   ]
  },
  {
   "cell_type": "code",
   "execution_count": null,
   "metadata": {},
   "outputs": [],
   "source": [
    "res=[]"
   ]
  },
  {
   "cell_type": "code",
   "execution_count": null,
   "metadata": {},
   "outputs": [],
   "source": [
    "p_ctr.shape"
   ]
  },
  {
   "cell_type": "code",
   "execution_count": null,
   "metadata": {
    "scrolled": true
   },
   "outputs": [],
   "source": [
    "from joblib import Parallel, delayed\n",
    "\n",
    "budget=6250\n",
    "avg_ctr=100.0*(float(y_train.sum())/float(x_train.shape[0]))\n",
    "alpha=budget/val_prices.shape[0]\n",
    "\n",
    "alphas_range = list(np.arange(0.00005, 0.00050, 0.00002))\n",
    "const_range = list(range(150, 600, 20))\n",
    "\n",
    "p_ctr=lr.predict_proba(x_val)\n",
    "res=[] # experiment results\n",
    "\n",
    "def simulate(a, c):\n",
    "    print(\"alpha:\", a, \"const:\", c)\n",
    "    sim_bids=sim.run(None, 'ortb', None, p_ctr, avg_ctr, a, c)\n",
    "    expr_result=sim.evaluate(val_prices, sim_bids, budget, y_val)\n",
    "    return (expr_result[2], a)"
   ]
  },
  {
   "cell_type": "code",
   "execution_count": null,
   "metadata": {
    "scrolled": true
   },
   "outputs": [],
   "source": [
    "for con in [100, 125, 150, 175, 200, 225, 250, 300]:\n",
    "    const_res = Parallel(n_jobs=10)(delayed(simulate)(a, con) for a in alphas_range)  \n",
    "    res.append((con, const_res))"
   ]
  },
  {
   "cell_type": "code",
   "execution_count": null,
   "metadata": {},
   "outputs": [],
   "source": [
    "p_ctr.min(axis=0)"
   ]
  },
  {
   "cell_type": "code",
   "execution_count": null,
   "metadata": {},
   "outputs": [],
   "source": [
    "res"
   ]
  },
  {
   "cell_type": "code",
   "execution_count": null,
   "metadata": {},
   "outputs": [],
   "source": [
    "highest_ctr=float('-inf')\n",
    "highest_ctr=[i[2][0] for i in res]\n",
    "print(max(highest_ctr))"
   ]
  },
  {
   "cell_type": "code",
   "execution_count": null,
   "metadata": {},
   "outputs": [],
   "source": [
    "simulate(0.0001, 120)"
   ]
  },
  {
   "cell_type": "code",
   "execution_count": null,
   "metadata": {},
   "outputs": [],
   "source": [
    "res"
   ]
  },
  {
   "cell_type": "code",
   "execution_count": null,
   "metadata": {},
   "outputs": [],
   "source": [
    "import plotly.plotly as py\n",
    "import plotly.graph_objs as go\n",
    "\n",
    "data=[]\n",
    "\n",
    "for r in [res[1], res[5], res[-1]]:\n",
    "    data.append(\n",
    "        go.Scatter(\n",
    "            x=[i[1] for i in r[1]],\n",
    "            y=[i[0] for i in r[1]],\n",
    "            mode = 'lines+markers',\n",
    "            name = str(r[0])\n",
    "        )\n",
    "    )\n",
    "\n",
    "layout = go.Layout(\n",
    "    xaxis=dict(\n",
    "        title='Alpha',\n",
    "        showticklabels=True, \n",
    "        range=[0.00009, 0.00046],\n",
    "        dtick=0.00005,\n",
    "        tickformat=\".5f\"\n",
    "    ),\n",
    "    yaxis=dict(\n",
    "        title='CTR',\n",
    "        showticklabels=True\n",
    "    )\n",
    ")\n",
    "fig = go.Figure(data=data, layout=layout)\n",
    "py.iplot(fig)"
   ]
  },
  {
   "cell_type": "markdown",
   "metadata": {},
   "source": [
    "###### ORTB 2"
   ]
  },
  {
   "cell_type": "code",
   "execution_count": null,
   "metadata": {},
   "outputs": [],
   "source": [
    "res=[] # experiment results"
   ]
  },
  {
   "cell_type": "code",
   "execution_count": null,
   "metadata": {},
   "outputs": [],
   "source": [
    "from joblib import Parallel, delayed\n",
    "\n",
    "budget=6250\n",
    "avg_ctr=100.0*(float(y_train.sum())/float(x_train.shape[0]))\n",
    "alpha=budget/val_prices.shape[0]\n",
    "alpha=0.00040\n",
    "\n",
    "alphas_range = list(np.arange(0.00010, 0.00050, 0.00005))\n",
    "const_range = list(range(100, 500, 50))\n",
    "\n",
    "p_ctr=lr.predict_proba(x_val)\n",
    "\n",
    "def simulate(a, c):\n",
    "    print(\"alpha:\", a, \"const:\", c)\n",
    "    sim_bids=sim.run(None, 'ortb2', None, p_ctr, avg_ctr, a, c)\n",
    "    expr_result=sim.evaluate(val_prices, sim_bids, budget, y_val)\n",
    "    return (expr_result[2], a)\n",
    "    #return (a, c, expr_result)"
   ]
  },
  {
   "cell_type": "code",
   "execution_count": null,
   "metadata": {
    "scrolled": true
   },
   "outputs": [],
   "source": [
    "const_res = Parallel(n_jobs=10)(delayed(simulate)(a, 300) for a in alphas_range)  \n",
    "res.append((300, const_res))"
   ]
  },
  {
   "cell_type": "code",
   "execution_count": null,
   "metadata": {
    "scrolled": true
   },
   "outputs": [],
   "source": [
    "res"
   ]
  },
  {
   "cell_type": "code",
   "execution_count": null,
   "metadata": {},
   "outputs": [],
   "source": [
    "y_val.sum()"
   ]
  },
  {
   "cell_type": "code",
   "execution_count": null,
   "metadata": {},
   "outputs": [],
   "source": [
    "p_ctr.mean(axis=0)"
   ]
  },
  {
   "cell_type": "code",
   "execution_count": null,
   "metadata": {},
   "outputs": [],
   "source": [
    "import plotly.plotly as py\n",
    "import plotly.graph_objs as go\n",
    "\n",
    "data=[]\n",
    "\n",
    "for r in [res[4], res[3], res[1]]:\n",
    "    data.append(\n",
    "        go.Scatter(\n",
    "            x=[i[1] for i in r[1]],\n",
    "            y=[i[0] for i in r[1]],\n",
    "            mode = 'lines+markers',\n",
    "            name = str(r[0])\n",
    "        )\n",
    "    )\n",
    "\n",
    "layout = go.Layout(\n",
    "    xaxis=dict(\n",
    "        title='Alpha',\n",
    "        showticklabels=True, \n",
    "        range=[0.00009, 0.00046],\n",
    "        dtick=0.00005,\n",
    "        tickformat=\".5f\"\n",
    "    ),\n",
    "    yaxis=dict(\n",
    "        title='CTR',\n",
    "        showticklabels=True\n",
    "    )\n",
    ")\n",
    "fig = go.Figure(data=data, layout=layout)\n",
    "py.iplot(fig)"
   ]
  },
  {
   "cell_type": "code",
   "execution_count": null,
   "metadata": {},
   "outputs": [],
   "source": [
    "simulate(0.00001, 150)"
   ]
  },
  {
   "cell_type": "code",
   "execution_count": null,
   "metadata": {},
   "outputs": [],
   "source": [
    "res"
   ]
  },
  {
   "cell_type": "markdown",
   "metadata": {},
   "source": [
    "###### ORTB Modified"
   ]
  },
  {
   "cell_type": "code",
   "execution_count": null,
   "metadata": {},
   "outputs": [],
   "source": [
    "from joblib import Parallel, delayed\n",
    "\n",
    "budget=6250\n",
    "avg_ctr=100.0*(float(y_train.sum())/float(x_train.shape[0]))\n",
    "alpha=budget/val_prices.shape[0]\n",
    "\n",
    "alphas_range = list(np.arange(0.00010, 0.00050, 0.00005))\n",
    "const_range = list(range(100, 500, 50))\n",
    "\n",
    "p_ctr=lr.predict_proba(x_val)\n",
    "\n",
    "def simulate(a, c):\n",
    "    print(\"alpha:\", a, \"const:\", c)\n",
    "    sim_bids=sim.run(x_val, 'ortb-modified', 200, p_ctr, avg_ctr, a, c)\n",
    "    print(len(sim_bids))\n",
    "    print(y_val.shape[0], val_prices.shape[0])\n",
    "    expr_result=sim.evaluate(val_prices, sim_bids, budget, y_val)\n",
    "    return (expr_result[2], a)\n",
    "    #return (a, c, expr_result)"
   ]
  },
  {
   "cell_type": "code",
   "execution_count": null,
   "metadata": {},
   "outputs": [],
   "source": [
    "simulate(0.0001, 150)"
   ]
  },
  {
   "cell_type": "code",
   "execution_count": null,
   "metadata": {},
   "outputs": [],
   "source": [
    "y_val.sum()"
   ]
  },
  {
   "cell_type": "markdown",
   "metadata": {},
   "source": [
    "##### Submission"
   ]
  },
  {
   "cell_type": "code",
   "execution_count": null,
   "metadata": {},
   "outputs": [],
   "source": [
    "p_ctr=lr.predict_proba(x_test)"
   ]
  },
  {
   "cell_type": "code",
   "execution_count": null,
   "metadata": {},
   "outputs": [],
   "source": [
    "def submit(a, c):\n",
    "    sim_bids=sim.run(None, 'ortb', None, p_ctr, None, a, c)\n",
    "    return sim_bids"
   ]
  },
  {
   "cell_type": "code",
   "execution_count": null,
   "metadata": {},
   "outputs": [],
   "source": [
    "test_bids = submit(0.00001, 105)"
   ]
  },
  {
   "cell_type": "code",
   "execution_count": null,
   "metadata": {},
   "outputs": [],
   "source": [
    "len(test_bids)"
   ]
  },
  {
   "cell_type": "code",
   "execution_count": null,
   "metadata": {},
   "outputs": [],
   "source": [
    "x_test"
   ]
  },
  {
   "cell_type": "code",
   "execution_count": null,
   "metadata": {},
   "outputs": [],
   "source": [
    "test.shape"
   ]
  },
  {
   "cell_type": "code",
   "execution_count": null,
   "metadata": {},
   "outputs": [],
   "source": [
    "# write submission to file\n",
    "submission = pd.DataFrame(test[\"bidid\"])\n",
    "submission[\"bidprice\"] = np.asarray(test_bids)"
   ]
  },
  {
   "cell_type": "code",
   "execution_count": null,
   "metadata": {},
   "outputs": [],
   "source": [
    "submission.head()"
   ]
  },
  {
   "cell_type": "code",
   "execution_count": null,
   "metadata": {},
   "outputs": [],
   "source": [
    "len(test_bids)"
   ]
  },
  {
   "cell_type": "code",
   "execution_count": null,
   "metadata": {},
   "outputs": [],
   "source": [
    "submission.shape"
   ]
  },
  {
   "cell_type": "code",
   "execution_count": null,
   "metadata": {},
   "outputs": [],
   "source": [
    "test[\"bidid\"].shape"
   ]
  },
  {
   "cell_type": "code",
   "execution_count": null,
   "metadata": {},
   "outputs": [],
   "source": [
    "submission.to_csv(\"data/submission.csv\", sep=',', index=False)"
   ]
  },
  {
   "cell_type": "code",
   "execution_count": null,
   "metadata": {},
   "outputs": [],
   "source": []
  },
  {
   "cell_type": "code",
   "execution_count": null,
   "metadata": {},
   "outputs": [],
   "source": []
  },
  {
   "cell_type": "code",
   "execution_count": null,
   "metadata": {},
   "outputs": [],
   "source": [
    "print(val.shape, x_val.shape, y_val.shape)\n",
    "print(train.shape, x_train.shape, y_train.shape)\n",
    "print(test.shape, x_test.shape)"
   ]
  },
  {
   "cell_type": "code",
   "execution_count": null,
   "metadata": {},
   "outputs": [],
   "source": []
  }
 ],
 "metadata": {
  "kernelspec": {
   "display_name": "Python 3",
   "language": "python",
   "name": "python3"
  },
  "language_info": {
   "codemirror_mode": {
    "name": "ipython",
    "version": 3
   },
   "file_extension": ".py",
   "mimetype": "text/x-python",
   "name": "python",
   "nbconvert_exporter": "python",
   "pygments_lexer": "ipython3",
   "version": "3.6.4"
  }
 },
 "nbformat": 4,
 "nbformat_minor": 2
}
